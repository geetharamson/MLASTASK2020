{
 "cells": [
  {
   "cell_type": "markdown",
   "metadata": {},
   "source": [
    "# TASK -1\n",
    "### Author - Geetha Karthikesan (g00376320)\n",
    "\n",
    "  Write a Python function called sqrt2 that calculates and prints to the screen the square root of 2 to 100 decimal places. Your code should not depend on any module from the standard library or otherwise. You shouldresearch the task first and include references and a description of your algorithm.¶"
   ]
  },
  {
   "cell_type": "markdown",
   "metadata": {},
   "source": [
    "### Square root of 2\n",
    "The square root of 2, or the one-half power of 2,written in mathematics as 2⎯⎯√  or  212  is the positive algebraic number\n",
    "that, when multiplied by itself, equals the number 2.Technically,it must be called the principal square root of 2, \n",
    "to distinguish it from the negative number with the same property.\n",
    "Also square root of 2 was probably the first number to be considered as irrational number. An irrational number is one which cannot be expressed as a ratio of two numbers, i.e. a fraction. Any number that can be expressed as a ratio of two integers, a decimal that either ends or repeats in a recurring manner or a percentage is said to be a rational number. All whole numbers are rational as they can be represented as fractions divided by 1."
   ]
  },
  {
   "attachments": {
    "image.png": {
     "image/png": "[encoded data removed]"
    }
   },
   "cell_type": "markdown",
   "metadata": {},
   "source": [
    "##### How to calculate square root of numbers\n",
    "The square root of a number, n, written\n",
    "\n",
    "is the number that gives n when multiplied by itself. For example,\n",
    "\n",
    "because 10 x 10 = 100\n",
    "\n",
    "![image.png](attachment:image.png)"
   ]
  },
  {
   "cell_type": "markdown",
   "metadata": {},
   "source": [
    "### How to Find square roots of numbers that aren't perfect squares without a calculator\n",
    "\n",
    "1.Estimate - first, get as close as you can by finding two perfect square roots your number is between.\n",
    "\n",
    "2.Divide - divide your number by one of those square roots.\n",
    "\n",
    "3.Average - take the average of the result of step 2 and the root.\n",
    "\n",
    "Use the result of step 3 to repeat steps 2 and 3 until you have a number that is accurate enough for you.\n",
    "\n",
    "> Example: Calculate the square root of 10 () to 2 decimal places.\n",
    "\n",
    "Find the two perfect square numbers it lies between.\n",
    "Solution: 32 = 9 and 42 = 16, so lies between 3 and 4.\n",
    "\n",
    "Divide 10 by 3. 10/3 = 3.33 (you can round off your answer)\n",
    "\n",
    "Average 3.33 and 3. (3.33 + 3)/2 = 3.1667\n",
    "\n",
    "Repeat step 2: 10/3.1667 = 3.1579 Repeat step 3: Average 3.1579 and 3.1667. (3.1579 + 3.1667)/2 = 3.1623\n",
    "\n",
    "Try the answer --> Is 3.1623 squared equal to 10? 3.1623 x 3.1623 = 10.0001\n",
    "\n",
    "If this is accurate enough for you, you can stop! Otherwise, you can repeat steps 2 and 3."
   ]
  },
  {
   "cell_type": "markdown",
   "metadata": {},
   "source": [
    "### Newtown-Raphson method to calculate square root\n",
    "The Newton-Raphson method or Newton's method is a root finding algorithm that uses an iterative approach to finding \n",
    "the square root of a number, producing better approximations for the square root at each iteration .\n",
    "\n",
    "A set of steps is is repeated over until we are satisified with the result or the method fails .\n",
    "\n",
    "Newton's method is a root finding method that uses linear approximation [4]. The algortihms starts with a guess and \n",
    "computes a sequence of improved guesses . The algorithm is quite old dating back to Babylonian times."
   ]
  },
  {
   "cell_type": "code",
   "execution_count": 1,
   "metadata": {},
   "outputs": [
    {
     "name": "stdout",
     "output_type": "stream",
     "text": [
      "The Square Root of 2.0:\n",
      "1.414213562373095048801688724209698078569671875376948073176679737990732478462107038850387534327641572\n"
     ]
    }
   ],
   "source": [
    "### Method  - Newton's method\n",
    "# Adapted from https://stackoverflow.com/a/28151578\n",
    "#calling function\n",
    "def root(m):\n",
    "    \n",
    "    # Get initial approximation\n",
    "    n, a, k = m, 1, 0\n",
    "    \n",
    "    while n > a:\n",
    "        n >>= 1\n",
    "        a <<= 1\n",
    "        k += 1\n",
    "        #print('\\', k, ':', n, a) # for debugging\n",
    "\n",
    "    # Go back one step & average\n",
    "    a = n + (a>>2)\n",
    "    \n",
    "    #print(a) # for debugging\n",
    "\n",
    "    # Applying Newton's method\n",
    "    \n",
    "    while k:\n",
    "        a = (a + m // a) >> 1\n",
    "        k >>= 1\n",
    "        #print(k, ':', a) # for debugging\n",
    "    \n",
    "    result = a\n",
    "    return result\n",
    "\n",
    "# body of the main function\n",
    "def main():\n",
    "    \n",
    "    # number to be square rooted, between 1 and 99 - outside the range there is possible error notation, beyond the scope of this task\n",
    "    number = 2\n",
    "    \n",
    "    # number of decimal places to be shown\n",
    "    precision = 100\n",
    "    \n",
    "    factor  = 10 ** (number * precision)\n",
    "    m =  number * factor\n",
    "    \n",
    "    # print the result converted to a string\n",
    "    string_result = str(root(m))\n",
    "    \n",
    "    # Check if the number is in the requested range\n",
    "    if 1 <= number < 100:\n",
    "        \n",
    "        # take the first digit followed by a dot\n",
    "        result = string_result[0:1] + \".\"\n",
    "        \n",
    "        # take the remaining digits up to set precision\n",
    "        for i in string_result[1:precision]:\n",
    "            result = result + i\n",
    "    \n",
    "        print(\"The Square Root of \" + str(m/factor) + \":\")\n",
    "        print(result)\n",
    "                \n",
    "    else:\n",
    "        print(\"Choose number to be squared between 1 and 99\")\n",
    "        \n",
    "# execute only if run as a script\n",
    "if __name__ == '__main__':\n",
    "    main()"
   ]
  },
  {
   "cell_type": "code",
   "execution_count": 22,
   "metadata": {},
   "outputs": [
    {
     "name": "stdout",
     "output_type": "stream",
     "text": [
      "101\n",
      "The Square Root of 2:\n",
      "1.414213562373095048801688724209698078569671875376948073176679737990732478462107038850387534327641572\n"
     ]
    }
   ],
   "source": [
    "# The algorithm \"Square root by subtraction\" by Frazer Jarvis, can be found here: http://www.afjarvis.staff.shef.ac.uk/maths/jarvisspec02.pdf\n",
    "\n",
    "# Adapted from https://www.mathblog.dk/project-euler-80-digits-irrational-square-roots/\n",
    "\n",
    "def Squareroot(n, prec):\n",
    "\n",
    "    # Set the required parameters\n",
    "    limit = 10**(prec+1) # extra precision to avoid rounding error\n",
    "    left = 5 * n\n",
    "    right = 5\n",
    " \n",
    "    while right < limit:\n",
    "        \n",
    "        if left >= right:\n",
    "            left -= right\n",
    "            right += 10\n",
    "            \n",
    "        else:\n",
    "            left *= 100\n",
    "            right = 10 * right - 45;\n",
    "       \n",
    "    return right;\n",
    "\n",
    "\n",
    "\n",
    "# body of the main function\n",
    "def main():\n",
    "    \n",
    "    # number to be square-rooted, between 1 and 99 - outside the range there is possible error notation, beyond the scope of this task\n",
    "    number = 2\n",
    "    \n",
    "    # number of decimal places to be shown\n",
    "    precision = 100\n",
    "    \n",
    "    # call the main algorithm and print the result converted to a string\n",
    "    string_result = str(Squareroot(number, precision))\n",
    "    \n",
    "    # Check if the number is in the requested range\n",
    "    if 1 <= number < 100:\n",
    "        \n",
    "        # take the first digit followed by a dot\n",
    "        result = string_result[0:1] + \".\"\n",
    "        \n",
    "        iteration = 0      \n",
    "        # take the remaining digits up to set precision\n",
    "        for i in string_result[1:precision]:\n",
    "            result = result + i\n",
    "            iteration += 1\n",
    "            # print(f\"Iter: {iteration:3}: {result}\") # for debugging\n",
    "               \n",
    "        print(len(result))\n",
    "        print(\"The Square Root of \" + str(number) + \":\")\n",
    "        print(result)\n",
    "                \n",
    "    else:\n",
    "        print(\"Choose number to be squared between 1 and 99\")\n",
    "        \n",
    "        \n",
    "        \n",
    "# execute only if run as a script\n",
    "if __name__ == '__main__':\n",
    "    main()"
   ]
  },
  {
   "cell_type": "code",
   "execution_count": 2,
   "metadata": {},
   "outputs": [
    {
     "name": "stdout",
     "output_type": "stream",
     "text": [
      "The square root of 2.0 is 1.4142135623730951454746218587388284504413604736328125000000000000000000000000000000000000000000000000\n"
     ]
    }
   ],
   "source": [
    "#code adapted from https://www.programiz.com/python-programming/examples/square-root\n",
    "# Note: change this value for a different result\n",
    "num = 2 \n",
    "\n",
    "# To take the input from the user\n",
    "#num = float(input('Enter a number: '))\n",
    "\n",
    "num_sqrt = num ** 0.5\n",
    "print('The square root of %0.1f is %0.100f'%(num ,num_sqrt))\n",
    "#this gives the decimal rounded to 100digits"
   ]
  },
  {
   "cell_type": "markdown",
   "metadata": {},
   "source": [
    "In the above method when asked for 100 decimal places, only upto 52 decimal places we get the digits but beyond that goes zero. So we cannot use this logic to prove entirely. Trying to equate the 100 decimal places the exact same as shown in **[NASAGOV](https://apod.nasa.gov/htmltest/gifcity/sqrt2.1mil)**"
   ]
  },
  {
   "cell_type": "markdown",
   "metadata": {},
   "source": [
    "> **Representation error** refers to the fact that most decimal fractions cannot be represented exactly as binary (base 2) \n",
    "fractions in Python and other languages and therefore won’t display the exact decimal number you expect.\n",
    "\n",
    "Most machines use IEEE-754 floating point arithmetic.\n",
    "Almost all platforms map Python floats to IEEE-754 “double precision”.\n",
    "754 doubles contain 53 bits of precision. The computer strives to convert 0.1 to the closest fraction that it can \n",
    "of the form $J/2**N$ where J is an integer containing exactly 53 bits.\n",
    "\n",
    "See IEEE 754 and IEEE Standard 754 Floating Point Numbers article on <geeksforgeeks.com>.\n",
    "\n",
    "**IEEE 754 has 3 basic components:**\n",
    "\n",
    "* The sign of the mantissa where 0 represents a positive number while 1 represents a negative number.\n",
    "* The biased exponent\n",
    "* The Normalised Mantissa\n",
    "* The decimal module implements decimal arithmetic suitable for accounting applications and high-precision applications (but not for this task!).\n",
    "\n",
    "> The fractions module implements arithmetic based on rational numbers (so the numbers like 1/3 can be represented exactly).\n",
    "NumPy and scipy packages are recommended for mathematical and statistical operations.\n",
    "Python also has a float.as_integer_ratio() method which expresses the value of a float as a fraction. This can help\n",
    "when you want to know the exact value as a float. As the ratio is exact, it can be used to losslessly recreate the \n",
    "original value."
   ]
  },
  {
   "cell_type": "code",
   "execution_count": 3,
   "metadata": {},
   "outputs": [
    {
     "name": "stdout",
     "output_type": "stream",
     "text": [
      "The square root of 2.0 is 1.4142135623730951454746218587388284504413604736328125\n"
     ]
    }
   ],
   "source": [
    "#code adapted from https://www.programiz.com/python-programming/examples/square-root\n",
    "#same code as above,just looking for 52decimal places instead of 100\n",
    "# Python Program to calculate the square root\n",
    "\n",
    "# Note: change this value for a different result\n",
    "num = 2\n",
    "\n",
    "# To take the input from the user\n",
    "#num = float(input('Enter a number: '))\n",
    "\n",
    "num_sqrt = num ** 0.5\n",
    "print('The square root of %0.1f is %0.52f'%(num ,num_sqrt))\n",
    "#this gives the decimal rounded to 3digits"
   ]
  },
  {
   "cell_type": "code",
   "execution_count": 4,
   "metadata": {},
   "outputs": [
    {
     "name": "stdout",
     "output_type": "stream",
     "text": [
      "The square root of 2 is: 1.4142135623730951\n"
     ]
    }
   ],
   "source": [
    "#Just going to try different inbuilt library modules to prove the exact value of sqrt of 2 \n",
    "import math\n",
    "print(\"The square root of 2 is:\", math.sqrt(2))\n",
    "#It prints the output value but its automatically rounded to 16 decimal places."
   ]
  },
  {
   "cell_type": "code",
   "execution_count": 18,
   "metadata": {},
   "outputs": [
    {
     "name": "stdout",
     "output_type": "stream",
     "text": [
      "1\n",
      "14142135623730950488016887242096980785696718753769480731766797379907324784621070388503875343276415727\n",
      "\n",
      "The square root of two is: \n",
      "1.414213562373095027142412563281858698349164881791987548177900388860130684271654303022821004349852877\n"
     ]
    }
   ],
   "source": [
    "# Python 3 program to find floor(sqrt(x) from geeksforgeeks.org    \n",
    "# This code is contributed by Nikita Tiwari. \n",
    "  \n",
    "# Returns floor of square root of x          \n",
    "def floorSqrt(x) : \n",
    "  \n",
    "    # Base cases \n",
    "    if (x == 0 or x == 1) : \n",
    "        return x \n",
    "   \n",
    "    # Do Binary Search for floor(sqrt(x)) \n",
    "    start = 1\n",
    "    end = x    \n",
    "    while (start <= end) : \n",
    "        mid = (start + end) // 2\n",
    "          \n",
    "        # If x is a perfect square \n",
    "        if (mid*mid == x) : \n",
    "            return mid \n",
    "              \n",
    "        # Since we need floor, we update  \n",
    "        # answer when mid*mid is smaller \n",
    "        # than x, and move closer to sqrt(x) \n",
    "        if (mid * mid < x) : \n",
    "            start = mid + 1\n",
    "            ans = mid \n",
    "              \n",
    "        else : \n",
    "              \n",
    "            # If mid*mid is greater than x \n",
    "            end = mid-1\n",
    "              \n",
    "    return ans \n",
    "  \n",
    "\n",
    "x = 2 * 10**200\n",
    "print(floorSqrt(2))\n",
    "print(floorSqrt(x)) \n",
    "\n",
    "floorsqrt2 = floorSqrt(x)\n",
    "format_floorsqrt2 =format(floorsqrt2,'.100g')\n",
    "formatfloorsqrt2 = format_floorsqrt2[0:101]\n",
    "print(f\"\\nThe square root of two is: \\n{formatfloorsqrt2}\")\n",
    "\n",
    "# Using string formatting and manipulation to get the digits"
   ]
  },
  {
   "cell_type": "markdown",
   "metadata": {},
   "source": [
    "#### Decimal library\n",
    "   Importing decimal library and verifying the answer of sqrt of 2\n",
    "   "
   ]
  },
  {
   "cell_type": "code",
   "execution_count": 19,
   "metadata": {},
   "outputs": [
    {
     "data": {
      "text/plain": [
       "Decimal('1.414213562373095048801688724209698078569671875376948073176679737990732478462107038850387534327641573')"
      ]
     },
     "execution_count": 19,
     "metadata": {},
     "output_type": "execute_result"
    }
   ],
   "source": [
    "#code adapted from  https://stackoverflow.com/a/4733196\n",
    "# importing decimal library\n",
    "from decimal import *\n",
    "getcontext().prec = 100\n",
    "#no of digits is set to 100\n",
    "Decimal(2).sqrt()\n",
    "#gives the output of square root of 2 for 100 decimal places."
   ]
  },
  {
   "cell_type": "markdown",
   "metadata": {},
   "source": [
    "# Conclusion\n",
    "\n",
    "The above result can be checked against the approximation of $\\sqrt{2}$ value available, at https://apod.nasa.gov/htmltest/gifcity/sqrt2.1mil. Here, the first 100 digits (including that on the left of the decimal) is shown:\n",
    "\n",
    "$ \\sqrt{2} $= 1.4142 13562 37309 50488 01688 72420 96980 78569 67187 53769 48073 17667 97379 90732 47846 21070 38850 38753 43276 41572 73\n",
    "    "
   ]
  },
  {
   "cell_type": "markdown",
   "metadata": {},
   "source": [
    "## References\n",
    "\n",
    "\n",
    "<https://www.programiz.com/python-programming/examples/square-root> [last accessed on 18/10/2020]\n",
    "\n",
    "<https://kodify.net/python/math/square-root>[last accessed on 18/10/2020]\n",
    "    \n",
    "<https://stackoverflow.com/questions/4733173/how-can-i-show-an-irrational-number-to-100-decimal-places-in-python> [last accessed on 18/10/2020]\n",
    "\n",
    "<https://stackoverflow.com/questions/24362686/how-to-print-out-100-decimal-places-of-sqrt2> [last accessed on 18/10/2020]\n",
    "\n",
    "<https://tour.golang.org/flowcontrol/8> [last accessed on 18/10/2020]\n",
    "\n",
    "<http://www.math.com/school/subject1/lessons/S1U1L9DP.html> [last accessed on 18/10/2020]\n",
    "\n",
    "<https://docs.python.org/3/library/string.html#format-string-syntax> [last accessed on 18/10/2020]\n",
    "\n",
    "<https://docs.python.org/2/library/decimal.html> [last accessed on 18/10/2020]\n",
    "\n",
    "<https://cs.stackexchange.com/questions/37596/arbitrary-precision-integer-square-root-algorithm> [last accessed on 28/10/2020]\n",
    "\n",
    "<https://apod.nasa.gov/htmltest/gifcity/sqrt2.1mil> [last accessed on 28/10/2020]\n",
    "    \n",
    "https://www.pythonpool.com/square-root-in-python> [last accessed on 30/10/2020]\n",
    "    \n",
    "https://commons.wikimedia.org/wiki/File:Python_sqrt.png>   [last accessed on 29/10/2020] \n",
    "        \n",
    "https://www.chegg.com/homework-help/questions-and-answers/write-python-function-calculates-square-root-number-use-mathsqrt-evaluate-function-works-u-q6301451>  [last accessed on 29/10/2020]\n",
    "    \n",
    "https://www.pythonpool.com/square-root-in-python/#Python_Program_To_Check_If_A_Number_Is_a_Perfect_Square_or_Not [last accessed on 5/11/2020]"
   ]
  },
  {
   "cell_type": "markdown",
   "metadata": {},
   "source": [
    "#  Task 2"
   ]
  }
 ],
 "metadata": {
  "kernelspec": {
   "display_name": "Python 3",
   "language": "python",
   "name": "python3"
  },
  "language_info": {
   "codemirror_mode": {
    "name": "ipython",
    "version": 3
   },
   "file_extension": ".py",
   "mimetype": "text/x-python",
   "name": "python",
   "nbconvert_exporter": "python",
   "pygments_lexer": "ipython3",
   "version": "3.8.3"
  }
 },
 "nbformat": 4,
 "nbformat_minor": 4
}
